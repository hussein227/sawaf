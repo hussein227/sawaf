{
  "nbformat": 4,
  "nbformat_minor": 0,
  "metadata": {
    "colab": {
      "name": "Task Datamanapulation",
      "provenance": [],
      "collapsed_sections": [],
      "toc_visible": true,
      "include_colab_link": true
    },
    "kernelspec": {
      "name": "python3",
      "display_name": "Python 3"
    }
  },
  "cells": [
    {
      "cell_type": "markdown",
      "metadata": {
        "id": "view-in-github",
        "colab_type": "text"
      },
      "source": [
        "<a href=\"https://colab.research.google.com/github/hussein227/sawaf/blob/master/Task_Datamanapulation.ipynb\" target=\"_parent\"><img src=\"https://colab.research.google.com/assets/colab-badge.svg\" alt=\"Open In Colab\"/></a>"
      ]
    },
    {
      "cell_type": "code",
      "metadata": {
        "colab": {
          "base_uri": "https://localhost:8080/",
          "height": 215
        },
        "id": "erHvtCQJLwzU",
        "outputId": "56dd2ca9-8cdd-4dc5-847b-49e26efd6ffc"
      },
      "source": [
        "import pandas as pd\r\n",
        "df=pd.read_csv(\"/content/train (5).csv\")\r\n",
        "df.head()"
      ],
      "execution_count": null,
      "outputs": [
        {
          "output_type": "execute_result",
          "data": {
            "text/html": [
              "<div>\n",
              "<style scoped>\n",
              "    .dataframe tbody tr th:only-of-type {\n",
              "        vertical-align: middle;\n",
              "    }\n",
              "\n",
              "    .dataframe tbody tr th {\n",
              "        vertical-align: top;\n",
              "    }\n",
              "\n",
              "    .dataframe thead th {\n",
              "        text-align: right;\n",
              "    }\n",
              "</style>\n",
              "<table border=\"1\" class=\"dataframe\">\n",
              "  <thead>\n",
              "    <tr style=\"text-align: right;\">\n",
              "      <th></th>\n",
              "      <th>state</th>\n",
              "      <th>account_length</th>\n",
              "      <th>area_code</th>\n",
              "      <th>international_plan</th>\n",
              "      <th>voice_mail_plan</th>\n",
              "      <th>number_vmail_messages</th>\n",
              "      <th>total_day_minutes</th>\n",
              "      <th>total_day_calls</th>\n",
              "      <th>total_day_charge</th>\n",
              "      <th>total_eve_minutes</th>\n",
              "      <th>total_eve_calls</th>\n",
              "      <th>total_eve_charge</th>\n",
              "      <th>total_night_minutes</th>\n",
              "      <th>total_night_calls</th>\n",
              "      <th>total_night_charge</th>\n",
              "      <th>total_intl_minutes</th>\n",
              "      <th>total_intl_calls</th>\n",
              "      <th>total_intl_charge</th>\n",
              "      <th>number_customer_service_calls</th>\n",
              "      <th>churn</th>\n",
              "    </tr>\n",
              "  </thead>\n",
              "  <tbody>\n",
              "    <tr>\n",
              "      <th>0</th>\n",
              "      <td>OH</td>\n",
              "      <td>107</td>\n",
              "      <td>area_code_415</td>\n",
              "      <td>no</td>\n",
              "      <td>yes</td>\n",
              "      <td>26</td>\n",
              "      <td>161.6</td>\n",
              "      <td>123</td>\n",
              "      <td>27.47</td>\n",
              "      <td>195.5</td>\n",
              "      <td>103</td>\n",
              "      <td>16.62</td>\n",
              "      <td>254.4</td>\n",
              "      <td>103</td>\n",
              "      <td>11.45</td>\n",
              "      <td>13.7</td>\n",
              "      <td>3</td>\n",
              "      <td>3.70</td>\n",
              "      <td>1</td>\n",
              "      <td>no</td>\n",
              "    </tr>\n",
              "    <tr>\n",
              "      <th>1</th>\n",
              "      <td>NJ</td>\n",
              "      <td>137</td>\n",
              "      <td>area_code_415</td>\n",
              "      <td>no</td>\n",
              "      <td>no</td>\n",
              "      <td>0</td>\n",
              "      <td>243.4</td>\n",
              "      <td>114</td>\n",
              "      <td>41.38</td>\n",
              "      <td>121.2</td>\n",
              "      <td>110</td>\n",
              "      <td>10.30</td>\n",
              "      <td>162.6</td>\n",
              "      <td>104</td>\n",
              "      <td>7.32</td>\n",
              "      <td>12.2</td>\n",
              "      <td>5</td>\n",
              "      <td>3.29</td>\n",
              "      <td>0</td>\n",
              "      <td>no</td>\n",
              "    </tr>\n",
              "    <tr>\n",
              "      <th>2</th>\n",
              "      <td>OH</td>\n",
              "      <td>84</td>\n",
              "      <td>area_code_408</td>\n",
              "      <td>yes</td>\n",
              "      <td>no</td>\n",
              "      <td>0</td>\n",
              "      <td>299.4</td>\n",
              "      <td>71</td>\n",
              "      <td>50.90</td>\n",
              "      <td>61.9</td>\n",
              "      <td>88</td>\n",
              "      <td>5.26</td>\n",
              "      <td>196.9</td>\n",
              "      <td>89</td>\n",
              "      <td>8.86</td>\n",
              "      <td>6.6</td>\n",
              "      <td>7</td>\n",
              "      <td>1.78</td>\n",
              "      <td>2</td>\n",
              "      <td>no</td>\n",
              "    </tr>\n",
              "    <tr>\n",
              "      <th>3</th>\n",
              "      <td>OK</td>\n",
              "      <td>75</td>\n",
              "      <td>area_code_415</td>\n",
              "      <td>yes</td>\n",
              "      <td>no</td>\n",
              "      <td>0</td>\n",
              "      <td>166.7</td>\n",
              "      <td>113</td>\n",
              "      <td>28.34</td>\n",
              "      <td>148.3</td>\n",
              "      <td>122</td>\n",
              "      <td>12.61</td>\n",
              "      <td>186.9</td>\n",
              "      <td>121</td>\n",
              "      <td>8.41</td>\n",
              "      <td>10.1</td>\n",
              "      <td>3</td>\n",
              "      <td>2.73</td>\n",
              "      <td>3</td>\n",
              "      <td>no</td>\n",
              "    </tr>\n",
              "    <tr>\n",
              "      <th>4</th>\n",
              "      <td>MA</td>\n",
              "      <td>121</td>\n",
              "      <td>area_code_510</td>\n",
              "      <td>no</td>\n",
              "      <td>yes</td>\n",
              "      <td>24</td>\n",
              "      <td>218.2</td>\n",
              "      <td>88</td>\n",
              "      <td>37.09</td>\n",
              "      <td>348.5</td>\n",
              "      <td>108</td>\n",
              "      <td>29.62</td>\n",
              "      <td>212.6</td>\n",
              "      <td>118</td>\n",
              "      <td>9.57</td>\n",
              "      <td>7.5</td>\n",
              "      <td>7</td>\n",
              "      <td>2.03</td>\n",
              "      <td>3</td>\n",
              "      <td>no</td>\n",
              "    </tr>\n",
              "  </tbody>\n",
              "</table>\n",
              "</div>"
            ],
            "text/plain": [
              "  state  account_length  ... number_customer_service_calls churn\n",
              "0    OH             107  ...                             1    no\n",
              "1    NJ             137  ...                             0    no\n",
              "2    OH              84  ...                             2    no\n",
              "3    OK              75  ...                             3    no\n",
              "4    MA             121  ...                             3    no\n",
              "\n",
              "[5 rows x 20 columns]"
            ]
          },
          "metadata": {
            "tags": []
          },
          "execution_count": 14
        }
      ]
    },
    {
      "cell_type": "markdown",
      "metadata": {
        "id": "Vq3s5tnzNf66"
      },
      "source": [
        "# New Section\r\n",
        "Churn Analysis Significance"
      ]
    },
    {
      "cell_type": "markdown",
      "metadata": {
        "id": "GE04xStsNoYZ"
      },
      "source": [
        "Churn Aalysis is the rate of how many customers a company lose in a specific \r\n",
        "\r\n",
        "1.   List item\r\n",
        "2.   List item\r\n",
        "\r\n",
        "time period"
      ]
    },
    {
      "cell_type": "code",
      "metadata": {
        "id": "DrGokDSAJj3C",
        "colab": {
          "base_uri": "https://localhost:8080/",
          "height": 128
        },
        "outputId": "3d5659d4-b3ae-4e89-faa9-e8f1cf6fa1c9"
      },
      "source": [
        "itis important AS:1- Access all the relevant data seamlessly and quickly\r\n",
        "2-Segment the customers based on behavior and demographics to improve retention\r\n",
        "3-Deliver tailored promotions and offers to positively influence their behavior\r\n",
        "4-Minimize acquisition costs and increase marketing efficiency\r\n",
        "5-Keep customers engaged and loyal\r\n",
        "6- finally(Understanding customer churn is vital to the success of a company and a churn analysis is the first step to understanding the customer).\r\n",
        "https://miro.medium.com/max/1250/1*tPJHeZxx8jjro_Y0VdUQOA.png (for statics studies )."
      ],
      "execution_count": null,
      "outputs": [
        {
          "output_type": "error",
          "ename": "SyntaxError",
          "evalue": "ignored",
          "traceback": [
            "\u001b[0;36m  File \u001b[0;32m\"<ipython-input-13-c8df45568e82>\"\u001b[0;36m, line \u001b[0;32m1\u001b[0m\n\u001b[0;31m    itis important AS:1- Access all the relevant data seamlessly and quickly\u001b[0m\n\u001b[0m                 ^\u001b[0m\n\u001b[0;31mSyntaxError\u001b[0m\u001b[0;31m:\u001b[0m invalid syntax\n"
          ]
        }
      ]
    },
    {
      "cell_type": "markdown",
      "metadata": {
        "id": "PmWPVcM0PBbH"
      },
      "source": [
        "# New Section\r\n",
        "Dataset Structure\r\n"
      ]
    },
    {
      "cell_type": "code",
      "metadata": {
        "colab": {
          "base_uri": "https://localhost:8080/"
        },
        "id": "Uhk4OyU9PlnK",
        "outputId": "02628e53-97a4-4de6-f2f0-54d522a6acac"
      },
      "source": [
        "df.shape"
      ],
      "execution_count": null,
      "outputs": [
        {
          "output_type": "execute_result",
          "data": {
            "text/plain": [
              "(4250, 20)"
            ]
          },
          "metadata": {
            "tags": []
          },
          "execution_count": 8
        }
      ]
    },
    {
      "cell_type": "code",
      "metadata": {
        "colab": {
          "base_uri": "https://localhost:8080/"
        },
        "id": "I-94kWABUmGt",
        "outputId": "d99cb5c4-1bf1-4e8a-8ff5-5e61dab16008"
      },
      "source": [
        "print(df.columns)"
      ],
      "execution_count": null,
      "outputs": [
        {
          "output_type": "stream",
          "text": [
            "Index(['state', 'account_length', 'area_code', 'international_plan',\n",
            "       'voice_mail_plan', 'number_vmail_messages', 'total_day_minutes',\n",
            "       'total_day_calls', 'total_day_charge', 'total_eve_minutes',\n",
            "       'total_eve_calls', 'total_eve_charge', 'total_night_minutes',\n",
            "       'total_night_calls', 'total_night_charge', 'total_intl_minutes',\n",
            "       'total_intl_calls', 'total_intl_charge',\n",
            "       'number_customer_service_calls', 'churn'],\n",
            "      dtype='object')\n"
          ],
          "name": "stdout"
        }
      ]
    },
    {
      "cell_type": "markdown",
      "metadata": {
        "id": "OGPDZxAGRUZ5"
      },
      "source": [
        "All the column names make sense.\r\n",
        "\r\n",
        "The name of the sixth,tenth,eleventh,twelfeth,sixteenth,seventeenth and the eighteenth columns are not self_explanatory.\r\n",
        "\r\n",
        "\r\n"
      ]
    },
    {
      "cell_type": "code",
      "metadata": {
        "id": "nI1dASfBVeGo"
      },
      "source": [
        "df.rename(columns={'number_vmail_messages':'number_voice_mail_messages','total_eve_minutes':'total_evening_minutes','total_eve_calls':'total_evening_calls','total_eve_charge':'total_evening_charge','total_intl_minutes':'total_international_minutes','total_intl_calls':'total_inrenational_calls','total_intl_charge':'total_international_charge'},inplace=True)"
      ],
      "execution_count": null,
      "outputs": []
    },
    {
      "cell_type": "code",
      "metadata": {
        "colab": {
          "base_uri": "https://localhost:8080/"
        },
        "id": "w_VVD_98a4b3",
        "outputId": "3e0f2fb5-e48a-4b3b-9ade-cf0a56c4a5d1"
      },
      "source": [
        "print(df.columns)"
      ],
      "execution_count": null,
      "outputs": [
        {
          "output_type": "stream",
          "text": [
            "Index(['state', 'account_length', 'area_code', 'international_plan',\n",
            "       'voice_mail_plan', 'number_voice_mail_messages', 'total_day_minutes',\n",
            "       'total_day_calls', 'total_day_charge', 'total_evening_minutes',\n",
            "       'total_evening_calls', 'total_evening_charge', 'total_night_minutes',\n",
            "       'total_night_calls', 'total_night_charge',\n",
            "       'total_international_minutes', 'total_inrenational_calls',\n",
            "       'total_international_charge', 'number_customer_service_calls', 'churn'],\n",
            "      dtype='object')\n"
          ],
          "name": "stdout"
        }
      ]
    },
    {
      "cell_type": "code",
      "metadata": {
        "id": "55kdK5wqJSBS"
      },
      "source": [
        "reviews=pd.read_csv(\"/content/train (5).csv\")# To make reviews dataframe"
      ],
      "execution_count": null,
      "outputs": []
    },
    {
      "cell_type": "markdown",
      "metadata": {
        "id": "AaZ5IZjPbKSc"
      },
      "source": [
        "Feature |Feature description |Feature format\r\n",
        "\r\n",
        "state| The US state of customer residence represented in \r\n",
        "      2-letter code| string\r\n",
        "\r\n",
        "account_length| The number of months the customer has been in the company| numerical\r\n",
        "\r\n",
        "area_code| The code of the area where the customer comes from| string\r\n",
        "\r\n",
        "international_plan| If the customer has an international plan or not| True(1) False(0)\r\n",
        "\r\n",
        "voice_mail_plain|If the customer has voice mail plan or not| True(1) False(0)\r\n",
        "\r\n",
        "number_voice_mail_messages| number of voice mail messages the customer has made| numerical \r\n",
        "\r\n",
        "total_day_minutes|Total minutes of day calls|numerical\r\n",
        "\r\n",
        "total_day_calls|Total  number of day calls |numerical\r\n",
        "\r\n",
        "total_day_charge|Total charge of day calls|numerical\r\n",
        "\r\n",
        "total_evening_minutes|Total minutes of evening calls|numerical\r\n",
        "\r\n",
        "total_evening_calls|Total number of evening calls |numerical\r\n",
        "\r\n",
        "total_evening_charge|Total charge of evening calls|numerical\r\n",
        "\r\n",
        "total_night_minutes|Total minutes of night calls.|numerical\r\n",
        "\r\n",
        "total_night_calls|Total number of night calls|numerical\r\n",
        "\r\n",
        "total_nigt_charge| Total charge of night calls|numerical\r\n",
        "\r\n",
        "total_international_minutes|Total minutes of international calls|numerical\r\n",
        "\r\n",
        "total_international_calls| Total number of international calls|numerical\r\n",
        "\r\n",
        "total_international_charge|Total charge of international calls|numerical\r\n",
        "\r\n",
        "number_customer_service_calls| Number of calls to customer service|numerical\r\n",
        "\r\n",
        "churn| Customer churn - target variable| True(1) False(0)\r\n",
        "\r\n",
        "\r\n"
      ]
    },
    {
      "cell_type": "markdown",
      "metadata": {
        "id": "GyVK2MQjyYi_"
      },
      "source": [
        "\r\n",
        "\r\n",
        "```\r\n",
        "# This is formatted as code\r\n",
        "```\r\n",
        "\r\n",
        "state:\r\n",
        "account_length\r\n",
        "area_code\r\n",
        "international_plan\r\n",
        "voice_mail_plan\r\n",
        "number_voice_mail_messages\r\n",
        "total_day_minutes\r\n",
        "total_day_calls\r\n",
        "total_day_charge', 'total_evening_minutes',\r\n",
        "       'total_evening_calls', 'total_evening_charge', 'total_night_minutes',\r\n",
        "       'total_night_calls', 'total_night_charge',\r\n",
        "       'total_international_minutes', 'total_inrenational_calls',\r\n",
        "       'total_international_charge', 'number_customer_service_calls', 'churn'"
      ]
    },
    {
      "cell_type": "markdown",
      "metadata": {
        "id": "7rwEghHgQZDR"
      },
      "source": [
        "state[String]\r\n",
        "account_lengtharea_code[int]\r\n",
        "international_plan[Boolean]\r\n",
        "voice_mail_plan[Boolean]\r\n",
        "number_voice_mail_messages[int]\r\n",
        "total_day_minutes[numerical]\r\n",
        "total_day_calls[int]\r\n",
        "total_day_charge[int]\r\n",
        "total_evening_minutes[int]\r\n",
        "total_evening_calls[int]\r\n",
        "total_evening_charge[int]\r\n",
        "total_night_minutes[int]\r\n",
        "total_night_calls[int]\r\n",
        "total_night_charge[int]\r\n",
        "total_international_minutes[int]\r\n",
        "total_inrenational_calls[int ]\r\n",
        "total_international_charge[int]\r\n",
        "number_customer_service_calls[int]\r\n",
        "churn[it is boolean ] BUT(it should be int)"
      ]
    },
    {
      "cell_type": "markdown",
      "metadata": {
        "id": "sQZzSovXS52C"
      },
      "source": [
        "Missing Values \r\n",
        "Entries missing values are given the value NaN, short for \"Not a Number\". For technical reasons these NaN values are always of the float64 dtype.\r\n",
        "The teqnics :\r\n",
        "1-Delete the record missing values\r\n",
        "2-create a seperate model to handle it\r\n",
        "3-statics mathods like(mean,median)\r\n",
        "\r\n"
      ]
    },
    {
      "cell_type": "code",
      "metadata": {
        "id": "KoX48eschovD",
        "colab": {
          "base_uri": "https://localhost:8080/",
          "height": 67
        },
        "outputId": "1a2525d7-a635-4bdf-c8d6-962e3738a0b7"
      },
      "source": [
        "df.tail()   #which telling us the NaN(Not A Number ) values for us\r\n",
        "reviews[pd.isnull(reviews.state)]  # which display automatical to  us all the missing values\r\n"
      ],
      "execution_count": null,
      "outputs": [
        {
          "output_type": "execute_result",
          "data": {
            "text/html": [
              "<div>\n",
              "<style scoped>\n",
              "    .dataframe tbody tr th:only-of-type {\n",
              "        vertical-align: middle;\n",
              "    }\n",
              "\n",
              "    .dataframe tbody tr th {\n",
              "        vertical-align: top;\n",
              "    }\n",
              "\n",
              "    .dataframe thead th {\n",
              "        text-align: right;\n",
              "    }\n",
              "</style>\n",
              "<table border=\"1\" class=\"dataframe\">\n",
              "  <thead>\n",
              "    <tr style=\"text-align: right;\">\n",
              "      <th></th>\n",
              "      <th>state</th>\n",
              "      <th>account_length</th>\n",
              "      <th>area_code</th>\n",
              "      <th>international_plan</th>\n",
              "      <th>voice_mail_plan</th>\n",
              "      <th>number_vmail_messages</th>\n",
              "      <th>total_day_minutes</th>\n",
              "      <th>total_day_calls</th>\n",
              "      <th>total_day_charge</th>\n",
              "      <th>total_eve_minutes</th>\n",
              "      <th>total_eve_calls</th>\n",
              "      <th>total_eve_charge</th>\n",
              "      <th>total_night_minutes</th>\n",
              "      <th>total_night_calls</th>\n",
              "      <th>total_night_charge</th>\n",
              "      <th>total_intl_minutes</th>\n",
              "      <th>total_intl_calls</th>\n",
              "      <th>total_intl_charge</th>\n",
              "      <th>number_customer_service_calls</th>\n",
              "      <th>churn</th>\n",
              "    </tr>\n",
              "  </thead>\n",
              "  <tbody>\n",
              "  </tbody>\n",
              "</table>\n",
              "</div>"
            ],
            "text/plain": [
              "Empty DataFrame\n",
              "Columns: [state, account_length, area_code, international_plan, voice_mail_plan, number_vmail_messages, total_day_minutes, total_day_calls, total_day_charge, total_eve_minutes, total_eve_calls, total_eve_charge, total_night_minutes, total_night_calls, total_night_charge, total_intl_minutes, total_intl_calls, total_intl_charge, number_customer_service_calls, churn]\n",
              "Index: []"
            ]
          },
          "metadata": {
            "tags": []
          },
          "execution_count": 17
        }
      ]
    },
    {
      "cell_type": "markdown",
      "metadata": {
        "id": "m3OaI4aZZZyU"
      },
      "source": [
        "df.dropna(subset['area_code','account_length'],how='any')this will drop the colums which has missing values AS \r\n",
        "we can use also [df.isna] :To indicate missing values\r\n",
        "we can use also [df.notna]:To indicate existing values\r\n",
        "\r\n"
      ]
    },
    {
      "cell_type": "markdown",
      "metadata": {
        "id": "Va9NsCRNpeG4"
      },
      "source": [
        "possible values  is the values which in Integer Class -2147483648<possiblevalues<2147483647\r\n"
      ]
    },
    {
      "cell_type": "markdown",
      "metadata": {
        "id": "V5eUlttXyZ96"
      },
      "source": [
        "# New Section\r\n",
        "Studying Groups"
      ]
    },
    {
      "cell_type": "code",
      "metadata": {
        "colab": {
          "base_uri": "https://localhost:8080/"
        },
        "id": "ijGuzL_Kr8Ls",
        "outputId": "49e919c1-558f-4ce3-9787-525111309d60"
      },
      "source": [
        "total_minutes=df.total_day_minutes+ df.total_evening_minutes\r\n",
        "average_minutes_spent_by_all_customers= total_minutes.mean()\r\n",
        "print(average_minutes_spent_by_all_customers)"
      ],
      "execution_count": null,
      "outputs": [
        {
          "output_type": "stream",
          "text": [
            "380.4335058823529\n"
          ],
          "name": "stdout"
        }
      ]
    },
    {
      "cell_type": "code",
      "metadata": {
        "colab": {
          "base_uri": "https://localhost:8080/"
        },
        "id": "gHpy1XwmAUxF",
        "outputId": "abb59ebf-988a-4d00-9361-8cb88e362681"
      },
      "source": [
        "df_CA = df[df['state']== \"CA\"]\r\n",
        "df_CA.number_customer_service_calls.max()"
      ],
      "execution_count": null,
      "outputs": [
        {
          "output_type": "execute_result",
          "data": {
            "text/plain": [
              "5"
            ]
          },
          "metadata": {
            "tags": []
          },
          "execution_count": 37
        }
      ]
    },
    {
      "cell_type": "code",
      "metadata": {
        "colab": {
          "base_uri": "https://localhost:8080/"
        },
        "id": "aP1sn68ZBUbx",
        "outputId": "265f43d8-b4f0-4ab0-9e3f-d2368f60718c"
      },
      "source": [
        "df_NC= df[df['state']==\"NC\"]\r\n",
        "df_NC.total_day_minutes.min()"
      ],
      "execution_count": null,
      "outputs": [
        {
          "output_type": "execute_result",
          "data": {
            "text/plain": [
              "7.2"
            ]
          },
          "metadata": {
            "tags": []
          },
          "execution_count": 38
        }
      ]
    },
    {
      "cell_type": "code",
      "metadata": {
        "colab": {
          "base_uri": "https://localhost:8080/"
        },
        "id": "oCb6s0GSNN-9",
        "outputId": "396ac3b9-1382-45a3-af30-b13047cbcda9"
      },
      "source": [
        "df_international=df[df['international_plan']=='yes']\r\n",
        "percent_customers_have_international_plan=(df_international['international_plan'].count()/df['international_plan'].count())*100\r\n",
        "print(percent_customers_have_international_plan)"
      ],
      "execution_count": null,
      "outputs": [
        {
          "output_type": "stream",
          "text": [
            "9.317647058823528\n"
          ],
          "name": "stdout"
        }
      ]
    },
    {
      "cell_type": "code",
      "metadata": {
        "colab": {
          "base_uri": "https://localhost:8080/"
        },
        "id": "By8SGJd7NJ_Z",
        "outputId": "ef075b40-6961-45fd-d59c-44f1026176f0"
      },
      "source": [
        "df_6=df[(df['voice_mail_plan']==\"yes\")& (df['total_night_calls']>3)]\r\n",
        "percent_6=(df_international['total_night_calls'].count()/df['total_night_calls'].count())*100\r\n",
        "print(percent_6)"
      ],
      "execution_count": null,
      "outputs": [
        {
          "output_type": "stream",
          "text": [
            "9.317647058823528\n"
          ],
          "name": "stdout"
        }
      ]
    },
    {
      "cell_type": "code",
      "metadata": {
        "colab": {
          "base_uri": "https://localhost:8080/"
        },
        "id": "wbIssNvjL_Ri",
        "outputId": "ae9d2dd2-207d-4b12-950c-ac3bbef52cda"
      },
      "source": [
        "df_FL=df[(df['state']==\"FL\")& (df['international_plan']==\"no\")]\r\n",
        "df_FL.total_day_charge.mean()"
      ],
      "execution_count": null,
      "outputs": [
        {
          "output_type": "execute_result",
          "data": {
            "text/plain": [
              "29.937971014492756"
            ]
          },
          "metadata": {
            "tags": []
          },
          "execution_count": 63
        }
      ]
    },
    {
      "cell_type": "code",
      "metadata": {
        "colab": {
          "base_uri": "https://localhost:8080/"
        },
        "id": "WKRlla8c7xHl",
        "outputId": "21b8e41b-8e01-4859-f2d9-acdbcc038187"
      },
      "source": [
        "df_churn=df[(df['churn']==\"yes\")&((df['state']==\"OH\")|(df['state']==\"NY\"))]\r\n",
        "percent_churn=(df_churn['churn'].count()/df['churn'].count())*100\r\n",
        "print(percent_churn)"
      ],
      "execution_count": null,
      "outputs": [
        {
          "output_type": "stream",
          "text": [
            "0.6588235294117647\n"
          ],
          "name": "stdout"
        }
      ]
    },
    {
      "cell_type": "code",
      "metadata": {
        "id": "ZD1OACOEgguW",
        "colab": {
          "base_uri": "https://localhost:8080/"
        },
        "outputId": "2f94b41b-6df9-4833-e072-7f345d0f252a"
      },
      "source": [
        "#making Series\r\n",
        "pd.Series([9.317647058823528,29.937971014492756,0.6588235294117647],index=['percent_6','total_day_charge','percent_churn'])"
      ],
      "execution_count": null,
      "outputs": [
        {
          "output_type": "execute_result",
          "data": {
            "text/plain": [
              "percent_6            9.317647\n",
              "total_day_charge    29.937971\n",
              "percent_churn        0.658824\n",
              "dtype: float64"
            ]
          },
          "metadata": {
            "tags": []
          },
          "execution_count": 18
        }
      ]
    },
    {
      "cell_type": "markdown",
      "metadata": {
        "id": "DnPEHLbDkSyR"
      },
      "source": [
        ""
      ]
    },
    {
      "cell_type": "code",
      "metadata": {
        "colab": {
          "base_uri": "https://localhost:8080/",
          "height": 402
        },
        "id": "SI7hfGkHmaxZ",
        "outputId": "0583fade-6359-4c5d-d218-e4c9ee0caf13"
      },
      "source": [
        "df.loc[:,['state','area_code','churn']]"
      ],
      "execution_count": null,
      "outputs": [
        {
          "output_type": "execute_result",
          "data": {
            "text/html": [
              "<div>\n",
              "<style scoped>\n",
              "    .dataframe tbody tr th:only-of-type {\n",
              "        vertical-align: middle;\n",
              "    }\n",
              "\n",
              "    .dataframe tbody tr th {\n",
              "        vertical-align: top;\n",
              "    }\n",
              "\n",
              "    .dataframe thead th {\n",
              "        text-align: right;\n",
              "    }\n",
              "</style>\n",
              "<table border=\"1\" class=\"dataframe\">\n",
              "  <thead>\n",
              "    <tr style=\"text-align: right;\">\n",
              "      <th></th>\n",
              "      <th>state</th>\n",
              "      <th>area_code</th>\n",
              "      <th>churn</th>\n",
              "    </tr>\n",
              "  </thead>\n",
              "  <tbody>\n",
              "    <tr>\n",
              "      <th>0</th>\n",
              "      <td>OH</td>\n",
              "      <td>area_code_415</td>\n",
              "      <td>no</td>\n",
              "    </tr>\n",
              "    <tr>\n",
              "      <th>1</th>\n",
              "      <td>NJ</td>\n",
              "      <td>area_code_415</td>\n",
              "      <td>no</td>\n",
              "    </tr>\n",
              "    <tr>\n",
              "      <th>2</th>\n",
              "      <td>OH</td>\n",
              "      <td>area_code_408</td>\n",
              "      <td>no</td>\n",
              "    </tr>\n",
              "    <tr>\n",
              "      <th>3</th>\n",
              "      <td>OK</td>\n",
              "      <td>area_code_415</td>\n",
              "      <td>no</td>\n",
              "    </tr>\n",
              "    <tr>\n",
              "      <th>4</th>\n",
              "      <td>MA</td>\n",
              "      <td>area_code_510</td>\n",
              "      <td>no</td>\n",
              "    </tr>\n",
              "    <tr>\n",
              "      <th>...</th>\n",
              "      <td>...</td>\n",
              "      <td>...</td>\n",
              "      <td>...</td>\n",
              "    </tr>\n",
              "    <tr>\n",
              "      <th>4245</th>\n",
              "      <td>MT</td>\n",
              "      <td>area_code_415</td>\n",
              "      <td>no</td>\n",
              "    </tr>\n",
              "    <tr>\n",
              "      <th>4246</th>\n",
              "      <td>WV</td>\n",
              "      <td>area_code_408</td>\n",
              "      <td>no</td>\n",
              "    </tr>\n",
              "    <tr>\n",
              "      <th>4247</th>\n",
              "      <td>NC</td>\n",
              "      <td>area_code_408</td>\n",
              "      <td>no</td>\n",
              "    </tr>\n",
              "    <tr>\n",
              "      <th>4248</th>\n",
              "      <td>HI</td>\n",
              "      <td>area_code_408</td>\n",
              "      <td>no</td>\n",
              "    </tr>\n",
              "    <tr>\n",
              "      <th>4249</th>\n",
              "      <td>VT</td>\n",
              "      <td>area_code_415</td>\n",
              "      <td>no</td>\n",
              "    </tr>\n",
              "  </tbody>\n",
              "</table>\n",
              "<p>4250 rows × 3 columns</p>\n",
              "</div>"
            ],
            "text/plain": [
              "     state      area_code churn\n",
              "0       OH  area_code_415    no\n",
              "1       NJ  area_code_415    no\n",
              "2       OH  area_code_408    no\n",
              "3       OK  area_code_415    no\n",
              "4       MA  area_code_510    no\n",
              "...    ...            ...   ...\n",
              "4245    MT  area_code_415    no\n",
              "4246    WV  area_code_408    no\n",
              "4247    NC  area_code_408    no\n",
              "4248    HI  area_code_408    no\n",
              "4249    VT  area_code_415    no\n",
              "\n",
              "[4250 rows x 3 columns]"
            ]
          },
          "metadata": {
            "tags": []
          },
          "execution_count": 10
        }
      ]
    },
    {
      "cell_type": "markdown",
      "metadata": {
        "id": "f-BC9dFzkSm6"
      },
      "source": [
        ""
      ]
    },
    {
      "cell_type": "code",
      "metadata": {
        "colab": {
          "base_uri": "https://localhost:8080/",
          "height": 136
        },
        "id": "YrJ7kADEkSPj",
        "outputId": "7a0e3634-81e4-4724-82d1-ff3da39132b1"
      },
      "source": [
        "df.loc[[68,99,102],['voice_mail_plan','international_plan']]"
      ],
      "execution_count": null,
      "outputs": [
        {
          "output_type": "execute_result",
          "data": {
            "text/html": [
              "<div>\n",
              "<style scoped>\n",
              "    .dataframe tbody tr th:only-of-type {\n",
              "        vertical-align: middle;\n",
              "    }\n",
              "\n",
              "    .dataframe tbody tr th {\n",
              "        vertical-align: top;\n",
              "    }\n",
              "\n",
              "    .dataframe thead th {\n",
              "        text-align: right;\n",
              "    }\n",
              "</style>\n",
              "<table border=\"1\" class=\"dataframe\">\n",
              "  <thead>\n",
              "    <tr style=\"text-align: right;\">\n",
              "      <th></th>\n",
              "      <th>voice_mail_plan</th>\n",
              "      <th>international_plan</th>\n",
              "    </tr>\n",
              "  </thead>\n",
              "  <tbody>\n",
              "    <tr>\n",
              "      <th>68</th>\n",
              "      <td>no</td>\n",
              "      <td>yes</td>\n",
              "    </tr>\n",
              "    <tr>\n",
              "      <th>99</th>\n",
              "      <td>no</td>\n",
              "      <td>no</td>\n",
              "    </tr>\n",
              "    <tr>\n",
              "      <th>102</th>\n",
              "      <td>no</td>\n",
              "      <td>no</td>\n",
              "    </tr>\n",
              "  </tbody>\n",
              "</table>\n",
              "</div>"
            ],
            "text/plain": [
              "    voice_mail_plan international_plan\n",
              "68               no                yes\n",
              "99               no                 no\n",
              "102              no                 no"
            ]
          },
          "metadata": {
            "tags": []
          },
          "execution_count": 11
        }
      ]
    },
    {
      "cell_type": "code",
      "metadata": {
        "id": "76pR9oppkR84"
      },
      "source": [
        "df.genre.nunique().head()#the number of unique values"
      ],
      "execution_count": null,
      "outputs": []
    },
    {
      "cell_type": "code",
      "metadata": {
        "id": "hNMGXCMg3JA7"
      },
      "source": [
        "first 500 row=pd.read_table('/content/train (5).csv')\r\n",
        "first 500 row.head(500)"
      ],
      "execution_count": null,
      "outputs": []
    },
    {
      "cell_type": "code",
      "metadata": {
        "id": "nGcv0O-j3oTu"
      },
      "source": [
        "#first 500 row=df.loc[0:500,0] or we can do this"
      ],
      "execution_count": null,
      "outputs": []
    },
    {
      "cell_type": "code",
      "metadata": {
        "id": "bcReJrDnn-8v"
      },
      "source": [
        "df.genre.value_counts()# acount of each value and how often it appears\r\n",
        "df.genre.value_counts(normalize=True)#percentage of each value"
      ],
      "execution_count": null,
      "outputs": []
    },
    {
      "cell_type": "markdown",
      "metadata": {
        "id": "DgGih0hTpnRF"
      },
      "source": [
        "from my standing there is  one way to prepare data for some machine learning models is by centering - that is, making the mean of the dataset in some column 0. We do this by first calculating the mean of this column, and then subtracting it from each Data point. "
      ]
    }
  ]
}